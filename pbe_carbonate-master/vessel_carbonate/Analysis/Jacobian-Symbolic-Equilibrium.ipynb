{
 "cells": [
  {
   "cell_type": "code",
   "execution_count": 1,
   "metadata": {},
   "outputs": [],
   "source": [
    "import sys\n",
    "from sympy import *\n",
    "sys.path.append('/home/caio/Projects/CarbonateDeposition/Repositories/psd-simulations-msm/vessel_carbonate/')\n",
    "from calciumcarbonate_equilibrium import *"
   ]
  },
  {
   "cell_type": "code",
   "execution_count": 2,
   "metadata": {},
   "outputs": [],
   "source": [
    "c = symbols('c0:14')\n",
    "cCT, cCaT, cNaT, cClT = symbols('cCT, cCaT, cNaT, cClT')\n",
    "n = 13"
   ]
  },
  {
   "cell_type": "code",
   "execution_count": 3,
   "metadata": {},
   "outputs": [],
   "source": [
    "# REMEMBER: c13 = log(cClT, 10)"
   ]
  },
  {
   "cell_type": "code",
   "execution_count": 4,
   "metadata": {},
   "outputs": [],
   "source": [
    "m = 0.5*(4*10**c[IDX_Capp]+10**c[IDX_CaHCO3p]\\\n",
    "            +10**c[IDX_CaOHp]+10**c[IDX_Hp]\\\n",
    "            +4*10**c[IDX_CO3mm]+10**c[IDX_HCO3m]\\\n",
    "            +10**c[IDX_OHm] + 10**c[IDX_Nap] \\\n",
    "            + 10**c[IDX_Clm] + 10**c[IDX_NaCO3m] )"
   ]
  },
  {
   "cell_type": "code",
   "execution_count": 5,
   "metadata": {},
   "outputs": [],
   "source": [
    "b = 0.1\n",
    "A = 0.5\n",
    "loggamma_0 = b*m\n",
    "loggamma_1Plus = -A*(1)*(sqrt(m)/(1+sqrt(m))-0.2*m)\n",
    "loggamma_1Minus = loggamma_1Plus\n",
    "loggamma_2Plus = 4*loggamma_1Plus\n",
    "loggamma_2Minus = loggamma_2Plus"
   ]
  },
  {
   "cell_type": "code",
   "execution_count": 6,
   "metadata": {},
   "outputs": [],
   "source": [
    "r = [None]*n\n",
    "r[0] = c[IDX_HCO3m] + c[IDX_Hp] - (logK_a1 + loggamma_0 - loggamma_1Plus - loggamma_1Minus) - c[IDX_CO2]\n",
    "r[1] = c[IDX_CO3mm] + c[IDX_Hp] - (logK_a2 - loggamma_2Minus) - c[IDX_HCO3m]\n",
    "r[2] = c[IDX_OHm] + c[IDX_Hp] - (logK_w + loggamma_0 - loggamma_1Plus - loggamma_1Minus)\n",
    "r[3] = c[IDX_CaHCO3p] - (logK_CaH + loggamma_2Plus) - c[IDX_Capp] - c[IDX_HCO3m]\n",
    "r[4] = c[IDX_CaCO3aq] - (logK_CaC - loggamma_0 + loggamma_2Plus + loggamma_2Minus) - c[IDX_Capp] - c[IDX_CO3mm]\n",
    "r[5] = c[IDX_CaOHp] - (logK_CaOH + loggamma_2Plus) - c[IDX_Capp] - c[IDX_OHm]\n",
    "r[6] = 10**c[IDX_Hp] + 2*10**c[IDX_Capp] \\\n",
    "    + 10**c[IDX_CaHCO3p] + 10**c[IDX_CaOHp] - 10**c[IDX_HCO3m] \\\n",
    "            - 2*10**c[IDX_CO3mm] - 10**c[IDX_OHm] + 10**c[IDX_Nap] \\\n",
    "            - 10**c[IDX_Clm] - 10**c[IDX_NaCO3m]\n",
    "r[7] = cCaT - 10**c[IDX_Capp] - 10**c[IDX_CaHCO3p] \\\n",
    "    - 10**c[IDX_CaCO3aq] - 10**c[IDX_CaOHp]\n",
    "r[8] =  cCT - 10**c[IDX_CO2] - 10**c[IDX_CO3mm] \\\n",
    "    - 10**c[IDX_HCO3m]- 10**c[IDX_CaHCO3p]- 10**c[IDX_CaCO3aq] \\\n",
    "    - 10**c[IDX_NaCO3m]- 10**c[IDX_NaHCO3]\n",
    "r[9] =  c[IDX_Nap] + logK_NaOH - c[IDX_NaOH] - c[IDX_Hp]\n",
    "r[10] =  c[IDX_Nap] + c[IDX_CO3mm] + (logK_NaCO3minus + loggamma_2Minus) - c[IDX_NaCO3m]\n",
    "r[11] =  c[IDX_Nap] + c[IDX_HCO3m] + (logK_NaHCO3 - loggamma_0 + loggamma_1Plus + loggamma_1Minus) - c[IDX_NaHCO3]\n",
    "r[12] = cNaT - 10**c[IDX_Nap] - 10**c[IDX_NaCO3m] - \\\n",
    "    10**c[IDX_NaOH]- 10**c[IDX_NaHCO3]"
   ]
  },
  {
   "cell_type": "code",
   "execution_count": 7,
   "metadata": {},
   "outputs": [],
   "source": [
    "J = []\n",
    "for i in range(n):\n",
    "    Jaux = []\n",
    "    for j in range(n):\n",
    "        Jaux += [diff(r[i], c[j])]\n",
    "    J += [Jaux]"
   ]
  },
  {
   "cell_type": "code",
   "execution_count": 8,
   "metadata": {},
   "outputs": [],
   "source": [
    "J0 = [diff(r[0], c[j]) for j in range(n)]"
   ]
  },
  {
   "cell_type": "code",
   "execution_count": 9,
   "metadata": {},
   "outputs": [
    {
     "name": "stdout",
     "output_type": "stream",
     "text": [
      "[0.05*10**c0*log(10) - 0.25*10**c0*log(10)/((sqrt(0.5*10**c0 + 0.5*10**c1 + 0.5*10**c11 + 0.5*10**c13 + 2.0*10**c3 + 0.5*10**c4 + 2.0*10**c5 + 0.5*10**c6 + 0.5*10**c7 + 0.5*10**c9) + 1)*sqrt(0.5*10**c0 + 0.5*10**c1 + 0.5*10**c11 + 0.5*10**c13 + 2.0*10**c3 + 0.5*10**c4 + 2.0*10**c5 + 0.5*10**c6 + 0.5*10**c7 + 0.5*10**c9)) + 0.25*10**c0*log(10)/(sqrt(0.5*10**c0 + 0.5*10**c1 + 0.5*10**c11 + 0.5*10**c13 + 2.0*10**c3 + 0.5*10**c4 + 2.0*10**c5 + 0.5*10**c6 + 0.5*10**c7 + 0.5*10**c9) + 1)**2 + 1, 0.05*10**c1*log(10) - 0.25*10**c1*log(10)/((sqrt(0.5*10**c0 + 0.5*10**c1 + 0.5*10**c11 + 0.5*10**c13 + 2.0*10**c3 + 0.5*10**c4 + 2.0*10**c5 + 0.5*10**c6 + 0.5*10**c7 + 0.5*10**c9) + 1)*sqrt(0.5*10**c0 + 0.5*10**c1 + 0.5*10**c11 + 0.5*10**c13 + 2.0*10**c3 + 0.5*10**c4 + 2.0*10**c5 + 0.5*10**c6 + 0.5*10**c7 + 0.5*10**c9)) + 0.25*10**c1*log(10)/(sqrt(0.5*10**c0 + 0.5*10**c1 + 0.5*10**c11 + 0.5*10**c13 + 2.0*10**c3 + 0.5*10**c4 + 2.0*10**c5 + 0.5*10**c6 + 0.5*10**c7 + 0.5*10**c9) + 1)**2, -1, 0.2*10**c3*log(10) - 1.0*10**c3*log(10)/((sqrt(0.5*10**c0 + 0.5*10**c1 + 0.5*10**c11 + 0.5*10**c13 + 2.0*10**c3 + 0.5*10**c4 + 2.0*10**c5 + 0.5*10**c6 + 0.5*10**c7 + 0.5*10**c9) + 1)*sqrt(0.5*10**c0 + 0.5*10**c1 + 0.5*10**c11 + 0.5*10**c13 + 2.0*10**c3 + 0.5*10**c4 + 2.0*10**c5 + 0.5*10**c6 + 0.5*10**c7 + 0.5*10**c9)) + 1.0*10**c3*log(10)/(sqrt(0.5*10**c0 + 0.5*10**c1 + 0.5*10**c11 + 0.5*10**c13 + 2.0*10**c3 + 0.5*10**c4 + 2.0*10**c5 + 0.5*10**c6 + 0.5*10**c7 + 0.5*10**c9) + 1)**2, 0.05*10**c4*log(10) - 0.25*10**c4*log(10)/((sqrt(0.5*10**c0 + 0.5*10**c1 + 0.5*10**c11 + 0.5*10**c13 + 2.0*10**c3 + 0.5*10**c4 + 2.0*10**c5 + 0.5*10**c6 + 0.5*10**c7 + 0.5*10**c9) + 1)*sqrt(0.5*10**c0 + 0.5*10**c1 + 0.5*10**c11 + 0.5*10**c13 + 2.0*10**c3 + 0.5*10**c4 + 2.0*10**c5 + 0.5*10**c6 + 0.5*10**c7 + 0.5*10**c9)) + 0.25*10**c4*log(10)/(sqrt(0.5*10**c0 + 0.5*10**c1 + 0.5*10**c11 + 0.5*10**c13 + 2.0*10**c3 + 0.5*10**c4 + 2.0*10**c5 + 0.5*10**c6 + 0.5*10**c7 + 0.5*10**c9) + 1)**2 + 1, 0.2*10**c5*log(10) - 1.0*10**c5*log(10)/((sqrt(0.5*10**c0 + 0.5*10**c1 + 0.5*10**c11 + 0.5*10**c13 + 2.0*10**c3 + 0.5*10**c4 + 2.0*10**c5 + 0.5*10**c6 + 0.5*10**c7 + 0.5*10**c9) + 1)*sqrt(0.5*10**c0 + 0.5*10**c1 + 0.5*10**c11 + 0.5*10**c13 + 2.0*10**c3 + 0.5*10**c4 + 2.0*10**c5 + 0.5*10**c6 + 0.5*10**c7 + 0.5*10**c9)) + 1.0*10**c5*log(10)/(sqrt(0.5*10**c0 + 0.5*10**c1 + 0.5*10**c11 + 0.5*10**c13 + 2.0*10**c3 + 0.5*10**c4 + 2.0*10**c5 + 0.5*10**c6 + 0.5*10**c7 + 0.5*10**c9) + 1)**2, 0.05*10**c6*log(10) - 0.25*10**c6*log(10)/((sqrt(0.5*10**c0 + 0.5*10**c1 + 0.5*10**c11 + 0.5*10**c13 + 2.0*10**c3 + 0.5*10**c4 + 2.0*10**c5 + 0.5*10**c6 + 0.5*10**c7 + 0.5*10**c9) + 1)*sqrt(0.5*10**c0 + 0.5*10**c1 + 0.5*10**c11 + 0.5*10**c13 + 2.0*10**c3 + 0.5*10**c4 + 2.0*10**c5 + 0.5*10**c6 + 0.5*10**c7 + 0.5*10**c9)) + 0.25*10**c6*log(10)/(sqrt(0.5*10**c0 + 0.5*10**c1 + 0.5*10**c11 + 0.5*10**c13 + 2.0*10**c3 + 0.5*10**c4 + 2.0*10**c5 + 0.5*10**c6 + 0.5*10**c7 + 0.5*10**c9) + 1)**2, 0.05*10**c7*log(10) - 0.25*10**c7*log(10)/((sqrt(0.5*10**c0 + 0.5*10**c1 + 0.5*10**c11 + 0.5*10**c13 + 2.0*10**c3 + 0.5*10**c4 + 2.0*10**c5 + 0.5*10**c6 + 0.5*10**c7 + 0.5*10**c9) + 1)*sqrt(0.5*10**c0 + 0.5*10**c1 + 0.5*10**c11 + 0.5*10**c13 + 2.0*10**c3 + 0.5*10**c4 + 2.0*10**c5 + 0.5*10**c6 + 0.5*10**c7 + 0.5*10**c9)) + 0.25*10**c7*log(10)/(sqrt(0.5*10**c0 + 0.5*10**c1 + 0.5*10**c11 + 0.5*10**c13 + 2.0*10**c3 + 0.5*10**c4 + 2.0*10**c5 + 0.5*10**c6 + 0.5*10**c7 + 0.5*10**c9) + 1)**2, 0, 0.05*10**c9*log(10) - 0.25*10**c9*log(10)/((sqrt(0.5*10**c0 + 0.5*10**c1 + 0.5*10**c11 + 0.5*10**c13 + 2.0*10**c3 + 0.5*10**c4 + 2.0*10**c5 + 0.5*10**c6 + 0.5*10**c7 + 0.5*10**c9) + 1)*sqrt(0.5*10**c0 + 0.5*10**c1 + 0.5*10**c11 + 0.5*10**c13 + 2.0*10**c3 + 0.5*10**c4 + 2.0*10**c5 + 0.5*10**c6 + 0.5*10**c7 + 0.5*10**c9)) + 0.25*10**c9*log(10)/(sqrt(0.5*10**c0 + 0.5*10**c1 + 0.5*10**c11 + 0.5*10**c13 + 2.0*10**c3 + 0.5*10**c4 + 2.0*10**c5 + 0.5*10**c6 + 0.5*10**c7 + 0.5*10**c9) + 1)**2, 0, 0.05*10**c11*log(10) - 0.25*10**c11*log(10)/((sqrt(0.5*10**c0 + 0.5*10**c1 + 0.5*10**c11 + 0.5*10**c13 + 2.0*10**c3 + 0.5*10**c4 + 2.0*10**c5 + 0.5*10**c6 + 0.5*10**c7 + 0.5*10**c9) + 1)*sqrt(0.5*10**c0 + 0.5*10**c1 + 0.5*10**c11 + 0.5*10**c13 + 2.0*10**c3 + 0.5*10**c4 + 2.0*10**c5 + 0.5*10**c6 + 0.5*10**c7 + 0.5*10**c9)) + 0.25*10**c11*log(10)/(sqrt(0.5*10**c0 + 0.5*10**c1 + 0.5*10**c11 + 0.5*10**c13 + 2.0*10**c3 + 0.5*10**c4 + 2.0*10**c5 + 0.5*10**c6 + 0.5*10**c7 + 0.5*10**c9) + 1)**2, 0]\n"
     ]
    }
   ],
   "source": [
    "print(J[0])"
   ]
  },
  {
   "cell_type": "code",
   "execution_count": 10,
   "metadata": {},
   "outputs": [],
   "source": []
  },
  {
   "cell_type": "code",
   "execution_count": 15,
   "metadata": {},
   "outputs": [
    {
     "data": {
      "text/plain": [
       "'lambda c0,c1,c2,c3,c4,c5,c6,c7,c8,c9,c10,c11,c12,c13: (0.05*10**c0*log(10) - 0.25*10**c0*log(10)/((sqrt(0.5*10**c0 + 0.5*10**c1 + 0.5*10**c11 + 0.5*10**c13 + 2.0*10**c3 + 0.5*10**c4 + 2.0*10**c5 + 0.5*10**c6 + 0.5*10**c7 + 0.5*10**c9) + 1)*sqrt(0.5*10**c0 + 0.5*10**c1 + 0.5*10**c11 + 0.5*10**c13 + 2.0*10**c3 + 0.5*10**c4 + 2.0*10**c5 + 0.5*10**c6 + 0.5*10**c7 + 0.5*10**c9)) + 0.25*10**c0*log(10)/(sqrt(0.5*10**c0 + 0.5*10**c1 + 0.5*10**c11 + 0.5*10**c13 + 2.0*10**c3 + 0.5*10**c4 + 2.0*10**c5 + 0.5*10**c6 + 0.5*10**c7 + 0.5*10**c9) + 1)**2 + 1)'"
      ]
     },
     "execution_count": 15,
     "metadata": {},
     "output_type": "execute_result"
    }
   ],
   "source": [
    "from sympy.utilities.lambdify import lambdastr\n",
    "lambdastr((c), J[0][0])"
   ]
  },
  {
   "cell_type": "code",
   "execution_count": null,
   "metadata": {},
   "outputs": [],
   "source": [
    "#init_printing()"
   ]
  },
  {
   "cell_type": "code",
   "execution_count": 48,
   "metadata": {},
   "outputs": [
    {
     "data": {
      "text/plain": [
       "'lambda c0,c1,c2,c3,c4,c5,c6,c7,c8,c9,c10,c11,c12,c13: (0.05*10**c0*log(10) - 0.25*10**c0*log(10)/((sqrt(0.5*10**c0 + 0.5*10**c1 + 0.5*10**c11 + 0.5*10**c13 + 2.0*10**c3 + 0.5*10**c4 + 2.0*10**c5 + 0.5*10**c6 + 0.5*10**c7 + 0.5*10**c9) + 1)*sqrt(0.5*10**c0 + 0.5*10**c1 + 0.5*10**c11 + 0.5*10**c13 + 2.0*10**c3 + 0.5*10**c4 + 2.0*10**c5 + 0.5*10**c6 + 0.5*10**c7 + 0.5*10**c9)) + 0.25*10**c0*log(10)/(sqrt(0.5*10**c0 + 0.5*10**c1 + 0.5*10**c11 + 0.5*10**c13 + 2.0*10**c3 + 0.5*10**c4 + 2.0*10**c5 + 0.5*10**c6 + 0.5*10**c7 + 0.5*10**c9) + 1)**2 + 1)'"
      ]
     },
     "execution_count": 48,
     "metadata": {},
     "output_type": "execute_result"
    }
   ],
   "source": [
    "a = lambdastr((c), J[0][0])\n",
    "a[54:100]\n",
    "a"
   ]
  },
  {
   "cell_type": "code",
   "execution_count": 1,
   "metadata": {},
   "outputs": [
    {
     "name": "stdout",
     "output_type": "stream",
     "text": [
      "[\n"
     ]
    },
    {
     "ename": "NameError",
     "evalue": "name 'n' is not defined",
     "output_type": "error",
     "traceback": [
      "\u001b[0;31m---------------------------------------------------------------------------\u001b[0m",
      "\u001b[0;31mNameError\u001b[0m                                 Traceback (most recent call last)",
      "\u001b[0;32m<ipython-input-1-15b2c38765da>\u001b[0m in \u001b[0;36m<module>\u001b[0;34m()\u001b[0m\n\u001b[1;32m      1\u001b[0m \u001b[0mprint\u001b[0m\u001b[0;34m(\u001b[0m\u001b[0;34m'['\u001b[0m\u001b[0;34m)\u001b[0m\u001b[0;34m\u001b[0m\u001b[0m\n\u001b[0;32m----> 2\u001b[0;31m \u001b[0;32mfor\u001b[0m \u001b[0mi\u001b[0m \u001b[0;32min\u001b[0m \u001b[0mrange\u001b[0m\u001b[0;34m(\u001b[0m\u001b[0mn\u001b[0m\u001b[0;34m)\u001b[0m\u001b[0;34m:\u001b[0m\u001b[0;34m\u001b[0m\u001b[0m\n\u001b[0m\u001b[1;32m      3\u001b[0m     \u001b[0mprint\u001b[0m\u001b[0;34m(\u001b[0m\u001b[0;34m'['\u001b[0m\u001b[0;34m)\u001b[0m\u001b[0;34m\u001b[0m\u001b[0m\n\u001b[1;32m      4\u001b[0m     \u001b[0;32mfor\u001b[0m \u001b[0mj\u001b[0m \u001b[0;32min\u001b[0m \u001b[0mrange\u001b[0m\u001b[0;34m(\u001b[0m\u001b[0mn\u001b[0m\u001b[0;34m)\u001b[0m\u001b[0;34m:\u001b[0m\u001b[0;34m\u001b[0m\u001b[0m\n\u001b[1;32m      5\u001b[0m         \u001b[0mlstr\u001b[0m \u001b[0;34m=\u001b[0m \u001b[0mlambdastr\u001b[0m\u001b[0;34m(\u001b[0m\u001b[0;34m(\u001b[0m\u001b[0mc\u001b[0m\u001b[0;34m)\u001b[0m\u001b[0;34m,\u001b[0m \u001b[0mJ\u001b[0m\u001b[0;34m[\u001b[0m\u001b[0mi\u001b[0m\u001b[0;34m]\u001b[0m\u001b[0;34m[\u001b[0m\u001b[0mj\u001b[0m\u001b[0;34m]\u001b[0m\u001b[0;34m)\u001b[0m\u001b[0;34m\u001b[0m\u001b[0m\n",
      "\u001b[0;31mNameError\u001b[0m: name 'n' is not defined"
     ]
    }
   ],
   "source": [
    "print('[')\n",
    "for i in range(n):\n",
    "    print('[')\n",
    "    for j in range(n):\n",
    "        lstr = lambdastr((c), J[i][j])\n",
    "        lstr = lstr[54:]\n",
    "#         lstr = '{}-{}'.format(i,j)\n",
    "        print(lstr + ',')\n",
    "    print('],')\n",
    "print(']')"
   ]
  },
  {
   "cell_type": "code",
   "execution_count": 36,
   "metadata": {},
   "outputs": [],
   "source": [
    "## Testing numba with namedtuples\n",
    "# from collections import namedtuple\n",
    "# Loggamma_ions = namedtuple('logGammaIons', ['Hp', 'OHm', 'CO2', 'CO3mm', 'HCO3m', 'Capp', 'CaOHp', 'CaHCO3p', 'CaCO3aq', 'Nap', 'NaOH', 'NaCO3m', 'NaHCO3'])\n",
    "# h = Loggamma_ions()\n",
    "import numpy as np\n",
    "import numba\n",
    "x = np.array([('Rex', 9, 81.0), ('Fido', 3, 27.0)],\n",
    "    dtype=[('name', 'U10'), ('age', 'i4'), ('weight', 'f4')])\n",
    "\n",
    "x['name']\n",
    "\n",
    "@numba.njit\n",
    "def numbafied(x_):\n",
    "    x_['age'][0] = 11\n",
    "    return x"
   ]
  },
  {
   "cell_type": "code",
   "execution_count": 38,
   "metadata": {},
   "outputs": [
    {
     "data": {
      "text/plain": [
       "array([11,  3], dtype=int32)"
      ]
     },
     "execution_count": 38,
     "metadata": {},
     "output_type": "execute_result"
    }
   ],
   "source": [
    "numbafied(x)\n",
    "# x['age'][0]\n",
    "x['age']"
   ]
  },
  {
   "cell_type": "code",
   "execution_count": 29,
   "metadata": {},
   "outputs": [
    {
     "data": {
      "text/plain": [
       "array([], dtype=[('age', '<f8'), ('weight', '<f8')])"
      ]
     },
     "execution_count": 29,
     "metadata": {},
     "output_type": "execute_result"
    }
   ],
   "source": [
    "x = np.array([],\n",
    "    dtype=[('age', np.float64), ('weight', np.float64)])\n",
    "x"
   ]
  }
 ],
 "metadata": {
  "hide_input": false,
  "kernelspec": {
   "display_name": "Python 3",
   "language": "python",
   "name": "python3"
  },
  "language_info": {
   "codemirror_mode": {
    "name": "ipython",
    "version": 3
   },
   "file_extension": ".py",
   "mimetype": "text/x-python",
   "name": "python",
   "nbconvert_exporter": "python",
   "pygments_lexer": "ipython3",
   "version": "3.6.5"
  },
  "toc": {
   "base_numbering": 1,
   "nav_menu": {},
   "number_sections": true,
   "sideBar": true,
   "skip_h1_title": false,
   "title_cell": "Table of Contents",
   "title_sidebar": "Contents",
   "toc_cell": false,
   "toc_position": {},
   "toc_section_display": true,
   "toc_window_display": false
  }
 },
 "nbformat": 4,
 "nbformat_minor": 2
}
