{
 "cells": [
  {
   "cell_type": "markdown",
   "metadata": {},
   "source": [
    "# Checking IAP and Equilibrium Calculation\n",
    "\n",
    "- The Supersaturation (< 1.5) is too small compared to the Literature (2>)\n",
    "\n",
    "TODO"
   ]
  },
  {
   "cell_type": "code",
   "execution_count": 10,
   "metadata": {},
   "outputs": [],
   "source": [
    "from collections import namedtuple\n",
    "import numba\n",
    "import numpy as np\n",
    "from pathlib import Path\n",
    "import sys\n",
    "FILEDIR = Path('__file__').parent\n",
    "p = FILEDIR / '../'\n",
    "sys.path.append(str(p.resolve()))\n",
    "import calciumcarbonate_equilibrium\n"
   ]
  },
  {
   "cell_type": "markdown",
   "metadata": {},
   "source": [
    "# Conductivity\n",
    "\n",
    "\n",
    "References:\n",
    "\n",
    "- Table of values: http://www.aqion.de/site/194 \n",
    "- http://www.aqion.de/site/77#Nernst-Einstein (Used reference)\n",
    "- https://www.hydrochemistry.eu/exmpls/sc.html\n",
    "- Handbook of Chemistry and Physic pag. 940\n",
    "\n",
    "Substance | abs(z) | Di 1e-9 [m^2/s] | $\\Lambda_{m,i}^0$ [S $cm^2$ $mol^{-1}$]$\n",
    "---- | ---- | ---- \n",
    "Na+ | 1 | 1.330\t| 50.0\n",
    "H+ | 1 | 9.310 |\t349.6\n",
    "Ca++ | 2 | 0.793 |\t119.1\n",
    "Cl-\t|1 |\t2.030 |\t76.2\n",
    "HCO3- |\t1 |\t1.180 |\t44.3\n",
    "NaCO3- | 1 |\t0.585 |\t22.0\n",
    "OH- |\t1 |\t5.270 |\t197.9\n",
    "CO3-- | 2 | 0.955 |\t143.5\n",
    "CaOH+ | 1 | |\n",
    "CaHCO3+ | 1 | 0.506 |\t19.0\n",
    "\n",
    "Calculation:\n",
    "\n",
    "Ideal:\n",
    "\n",
    "$$EC^{0} = \\sum_i \\Lambda_{m,i}^0 c_i = \\ \\sum\\limits_i \\, \\Lambda_{m,i}^0 \\, c_i \\ = \\ \\left( \\dfrac {F^2}{RT} \\right)  \\ \\sum\\limits_i \\, D_i z_i^2 \\, c_i$$\n",
    "\n",
    "Non-ideal:\n",
    "\n",
    "$$EC \\ = \\ \\sum\\limits_i \\, \\Lambda_{m,i} \\, c_i = (\\dfrac{F^2}{RT}) \\sum_i D_i z_i^2 (\\gamma_i)^2 c_i = \\sum_i \\Lambda_{m,i}^0 \\gamma_{corr} c_i$$\n",
    "\n",
    "OR\n",
    "\n",
    "$$EC \\ = \\ \\sum\\limits_i \\, \\Lambda_{m,i}^0 \\, (\\gamma_i)^{\\alpha} \\, c_i\\ $$\n",
    "\n",
    "$$\\alpha \\ = \\ \\dfrac{\\ln \\, \\gamma_{corr}}{\\ln \\, \\gamma_i} \\ = \\ \\dfrac{K} {\\Lambda_{m,i}^0 \\, (\\ln 10) \\ A \\, \\mid\\! z_i\\mid^{0.5}}$$\n",
    "\n",
    "$$% <![CDATA[\n",
    "\\alpha \\ = \\ \\begin{cases} \\ 0.6 \\,/ \\mid\\! z_i\\!\\mid^{0.5} = const & \\ \\ \\ \\text{if } \\ \\ I\\leq 0.36 \\mid\\! z_i\\mid \\\\ \\ \\sqrt{I} \\, / \\mid\\! z_i\\mid  & \\ \\ \\ \\text{otherwise } \\end{cases} %]]>$$"
   ]
  },
  {
   "cell_type": "markdown",
   "metadata": {},
   "source": [
    "## Using PHREEQC for Conductivity estimation\n",
    "\n"
   ]
  },
  {
   "cell_type": "code",
   "execution_count": 2,
   "metadata": {},
   "outputs": [
    {
     "name": "stdout",
     "output_type": "stream",
     "text": [
      "This solution has a pH of: 8.20 and a conductivity of: 1278.35 uS/cm\n"
     ]
    }
   ],
   "source": [
    "import thermo\n",
    "from phreeqpython import PhreeqPython\n",
    "pp = PhreeqPython()\n",
    "mw = thermo.Chemical('NaHCO3').MW\n",
    "solution = pp.add_solution_simple({'NaHCO3':1.2275/mw * 1e3}) #should be in mmol/L\n",
    "solution.change_temperature(10)\n",
    "print(\"This solution has a pH of: {0:.2f} and a conductivity of: {1:.2f} uS/cm\".format(solution.pH,solution.sc))"
   ]
  }
 ],
 "metadata": {
  "hide_input": false,
  "kernelspec": {
   "display_name": "Python 3",
   "language": "python",
   "name": "python3"
  },
  "language_info": {
   "codemirror_mode": {
    "name": "ipython",
    "version": 3
   },
   "file_extension": ".py",
   "mimetype": "text/x-python",
   "name": "python",
   "nbconvert_exporter": "python",
   "pygments_lexer": "ipython3",
   "version": "3.6.5"
  },
  "toc": {
   "base_numbering": 1,
   "nav_menu": {},
   "number_sections": true,
   "sideBar": true,
   "skip_h1_title": false,
   "title_cell": "Table of Contents",
   "title_sidebar": "Contents",
   "toc_cell": false,
   "toc_position": {},
   "toc_section_display": true,
   "toc_window_display": false
  }
 },
 "nbformat": 4,
 "nbformat_minor": 2
}
