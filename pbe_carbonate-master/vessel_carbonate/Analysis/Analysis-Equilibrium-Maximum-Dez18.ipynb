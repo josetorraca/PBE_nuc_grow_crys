{
 "cells": [
  {
   "cell_type": "markdown",
   "metadata": {},
   "source": [
    "## Equilibrium Analysis for the $CaCl_2$ and $NaHCO_3$ System"
   ]
  },
  {
   "cell_type": "code",
   "execution_count": 51,
   "metadata": {},
   "outputs": [
    {
     "name": "stdout",
     "output_type": "stream",
     "text": [
      "The autoreload extension is already loaded. To reload it, use:\n",
      "  %reload_ext autoreload\n",
      "env: NUMBA_DISABLE_JIT=1\n"
     ]
    }
   ],
   "source": [
    "%load_ext autoreload\n",
    "%autoreload 2\n",
    "%env NUMBA_DISABLE_JIT=1\n",
    "import numpy as np\n",
    "import plotly.offline as py\n",
    "import plotly.graph_objs as go\n",
    "import sys\n",
    "sys.path.append('/home/caio/Projects/CarbonateDeposition/Repositories/psd-simulations-msm/vessel_carbonate/')\n",
    "import calciumcarbonate_supersaturation_module as carbonate_eq\n",
    "import mdl_vessel_carbonate"
   ]
  },
  {
   "cell_type": "code",
   "execution_count": 52,
   "metadata": {},
   "outputs": [
    {
     "data": {
      "text/html": [
       "<script>requirejs.config({paths: { 'plotly': ['https://cdn.plot.ly/plotly-latest.min']},});if(!window.Plotly) {{require(['plotly'],function(plotly) {window.Plotly=plotly;});}}</script>"
      ],
      "text/vnd.plotly.v1+html": [
       "<script>requirejs.config({paths: { 'plotly': ['https://cdn.plot.ly/plotly-latest.min']},});if(!window.Plotly) {{require(['plotly'],function(plotly) {window.Plotly=plotly;});}}</script>"
      ]
     },
     "metadata": {},
     "output_type": "display_data"
    }
   ],
   "source": [
    "py.init_notebook_mode(connected=True)"
   ]
  },
  {
   "cell_type": "code",
   "execution_count": 59,
   "metadata": {},
   "outputs": [],
   "source": [
    "pp = mdl_vessel_carbonate.SystemPhysicoChemicalParameters()\n",
    "mdl = mdl_vessel_carbonate.MyModel(100, 101, pp)\n",
    "max_cond = mdl_vessel_carbonate.calculate_maximum_conditions(mdl)"
   ]
  },
  {
   "cell_type": "code",
   "execution_count": 65,
   "metadata": {},
   "outputs": [],
   "source": [
    "# Maximum species after complete addition\n",
    "m_slv = mdl.rho_w * max_cond['Vfinal']\n",
    "# cCa = max_cond['Ca-max'] / m_slv\n",
    "# cC = max_cond['C-max'] / m_slv\n",
    "# cNa = max_cond['Na-max'] / m_slv\n",
    "# cCl = max_cond['Cl-max'] / m_slv\n",
    "VinL = max_cond['Vfinal'] * 1e-3\n",
    "cCa = (max_cond['Ca-max']/pp.M_Ca) / VinL\n",
    "cC = (max_cond['C-max']/pp.M_C) / VinL\n",
    "cNa = (max_cond['Na-max']/pp.M_Na) / VinL\n",
    "cCl = (max_cond['Cl-max']/pp.M_Cl) / VinL\n",
    "eQ = carbonate_eq.CalciumCarbonateReaction()\n",
    "eQ.solve(cC, cCa, cNa, cCl)"
   ]
  },
  {
   "cell_type": "code",
   "execution_count": 66,
   "metadata": {},
   "outputs": [
    {
     "data": {
      "text/plain": [
       "{'CaCO3-max': 0.06429481308567,\n",
       " 'Cl-max': 0.04554929782671376,\n",
       " 'Ca-max': 0.025745702173286242,\n",
       " 'C-max': 0.10529981694654525,\n",
       " 'Na-max': 0.20155516103500856,\n",
       " 'mass-CaCl2-added': 0.071295,\n",
       " 'Vfinal': 698.0}"
      ]
     },
     "execution_count": 66,
     "metadata": {},
     "output_type": "execute_result"
    }
   ],
   "source": [
    "max_cond"
   ]
  },
  {
   "cell_type": "code",
   "execution_count": 67,
   "metadata": {},
   "outputs": [
    {
     "data": {
      "text/plain": [
       "698.0"
      ]
     },
     "execution_count": 67,
     "metadata": {},
     "output_type": "execute_result"
    }
   ],
   "source": [
    "m_slv"
   ]
  },
  {
   "cell_type": "code",
   "execution_count": 68,
   "metadata": {},
   "outputs": [
    {
     "data": {
      "text/plain": [
       "3.2735228935481135e-08"
      ]
     },
     "execution_count": 68,
     "metadata": {},
     "output_type": "execute_result"
    }
   ],
   "source": [
    "eQ.IAP"
   ]
  },
  {
   "cell_type": "code",
   "execution_count": 69,
   "metadata": {},
   "outputs": [
    {
     "data": {
      "text/plain": [
       "3.3113112148259078e-09"
      ]
     },
     "execution_count": 69,
     "metadata": {},
     "output_type": "execute_result"
    }
   ],
   "source": [
    "eQ.Ksp"
   ]
  },
  {
   "cell_type": "code",
   "execution_count": 70,
   "metadata": {},
   "outputs": [
    {
     "ename": "SyntaxError",
     "evalue": "invalid syntax (<ipython-input-70-60860b0973dc>, line 1)",
     "output_type": "error",
     "traceback": [
      "\u001b[0;36m  File \u001b[0;32m\"<ipython-input-70-60860b0973dc>\"\u001b[0;36m, line \u001b[0;32m1\u001b[0m\n\u001b[0;31m    class Aow()\u001b[0m\n\u001b[0m               ^\u001b[0m\n\u001b[0;31mSyntaxError\u001b[0m\u001b[0;31m:\u001b[0m invalid syntax\n"
     ]
    }
   ],
   "source": [
    "class Aow()\n",
    "    def __init__(self, *arg, **kw):\n",
    "        "
   ]
  },
  {
   "cell_type": "code",
   "execution_count": null,
   "metadata": {},
   "outputs": [],
   "source": []
  },
  {
   "cell_type": "code",
   "execution_count": null,
   "metadata": {},
   "outputs": [],
   "source": []
  },
  {
   "cell_type": "code",
   "execution_count": null,
   "metadata": {},
   "outputs": [],
   "source": []
  },
  {
   "cell_type": "code",
   "execution_count": 77,
   "metadata": {},
   "outputs": [],
   "source": [
    "#autoinit.py\n",
    "from inspect import getfullargspec\n",
    "class AutoInit(type):\n",
    "      def __new__(meta, classname, supers, classdict):\n",
    "        classdict['__init__'] = autoInitDecorator(classdict['__init__'])\n",
    "        return type.__new__(meta, classname, supers, classdict)\n",
    "\n",
    "def autoInitDecorator (toDecoreFun):\n",
    "    def wrapper(*args):\n",
    "        # ['self', 'first_name', 'last_name', 'birth_date', 'sex', 'address']\n",
    "        argsnames = getfullargspec(toDecoreFun)[0]\n",
    "\n",
    "        # the values provided when a new instance is created minus the 'self' reference\n",
    "        # ['Jonh', 'Doe', '21/06/1990', 'male', '216 Caledonia Street']\n",
    "        argsvalues = [x for x in args[1:]]\n",
    "\n",
    "        # 'self' -> the reference to the instance\n",
    "        objref = args[0]\n",
    "\n",
    "        # setting the attribute with the corrisponding values to the instance\n",
    "        # note I am skipping the 'self' reference\n",
    "        for x in argsnames[1:]:\n",
    "            objref.__setattr__(x,argsvalues.pop(0))\n",
    "    \n",
    "    return wrapper"
   ]
  },
  {
   "cell_type": "code",
   "execution_count": 78,
   "metadata": {},
   "outputs": [
    {
     "name": "stdout",
     "output_type": "stream",
     "text": [
      "Jonh Doe 21/06/1990 male 216 Caledonia Street\n"
     ]
    }
   ],
   "source": [
    "class Person (metaclass=AutoInit):\n",
    "    def __init__(self, first_name, last_name, birth_date, sex, address):\n",
    "        pass\n",
    "    def __repr__(self):\n",
    "        return \"{} {} {} {} {}\"\\\n",
    "        .format(self.first_name, self.last_name, self.birth_date, self.sex, self.address)\n",
    "\n",
    "if __name__ == '__main__':\n",
    "    john = Person('Jonh', 'Doe', '21/06/1990', 'male', '216 Caledonia Street')\n",
    "    print(john)"
   ]
  },
  {
   "cell_type": "code",
   "execution_count": null,
   "metadata": {},
   "outputs": [],
   "source": []
  }
 ],
 "metadata": {
  "hide_input": false,
  "kernelspec": {
   "display_name": "Python 3",
   "language": "python",
   "name": "python3"
  },
  "language_info": {
   "codemirror_mode": {
    "name": "ipython",
    "version": 3
   },
   "file_extension": ".py",
   "mimetype": "text/x-python",
   "name": "python",
   "nbconvert_exporter": "python",
   "pygments_lexer": "ipython3",
   "version": "3.6.5"
  }
 },
 "nbformat": 4,
 "nbformat_minor": 2
}
