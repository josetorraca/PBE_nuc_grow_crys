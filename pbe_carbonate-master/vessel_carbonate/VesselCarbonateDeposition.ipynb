{
 "cells": [
  {
   "cell_type": "code",
   "execution_count": 1,
   "metadata": {},
   "outputs": [],
   "source": [
    "import numpy as np\n",
    "from scipy import integrate"
   ]
  },
  {
   "cell_type": "markdown",
   "metadata": {},
   "source": [
    "## Initial Condition PSD"
   ]
  },
  {
   "cell_type": "code",
   "execution_count": 32,
   "metadata": {},
   "outputs": [],
   "source": [
    "a = 250.0\n",
    "b = 300.0\n",
    "V = 600.0\n",
    "rho_c = 2.0\n",
    "rho_w = 1.0\n",
    "k_v = 1.0\n",
    "m_seeds_ref = 5.0"
   ]
  },
  {
   "cell_type": "code",
   "execution_count": 33,
   "metadata": {},
   "outputs": [],
   "source": [
    "def n0_ref_fnc(v, a, b, V):\n",
    "    if v < a or v > b:\n",
    "        return 0.0\n",
    "    else:\n",
    "        return (300.0 - v)*(v - 250.0) / V"
   ]
  },
  {
   "cell_type": "code",
   "execution_count": 52,
   "metadata": {},
   "outputs": [
    {
     "data": {
      "text/plain": [
       "725694444.4444443"
      ]
     },
     "execution_count": 52,
     "metadata": {},
     "output_type": "execute_result"
    }
   ],
   "source": [
    "mu3_ref = integrate.quad(lambda l,a,b,V: n0_ref_fnc(l,a,b,V)*l**3, 0.0, 600.0, args=(a,b, V))\n",
    "mu3_ref = mu3_ref[0]\n",
    "mu3_ref"
   ]
  },
  {
   "cell_type": "code",
   "execution_count": 35,
   "metadata": {},
   "outputs": [
    {
     "data": {
      "text/plain": [
       "5.741626794258374e-12"
      ]
     },
     "execution_count": 35,
     "metadata": {},
     "output_type": "execute_result"
    }
   ],
   "source": [
    "a0 = m_seeds_ref / (mu3_ref * k_v * rho_c * V)\n",
    "a0"
   ]
  },
  {
   "cell_type": "code",
   "execution_count": 36,
   "metadata": {},
   "outputs": [],
   "source": [
    "def n0_fnc(v, a, b, V, a0):\n",
    "    if v < a or v > b:\n",
    "        return 0.0\n",
    "    else:\n",
    "        return a0*(300.0 - v)*(v - 250.0) / V"
   ]
  },
  {
   "cell_type": "code",
   "execution_count": 68,
   "metadata": {},
   "outputs": [
    {
     "data": {
      "text/plain": [
       "0.0041666666666666675"
      ]
     },
     "execution_count": 68,
     "metadata": {},
     "output_type": "execute_result"
    }
   ],
   "source": [
    "mu3 = integrate.quad(lambda l,a,b,V,a0: n0_fnc(l,a,b,V, a0)*l**3, 0.0, 600.0, args=(a,b, V, a0))[0]\n",
    "mu3"
   ]
  },
  {
   "cell_type": "code",
   "execution_count": 70,
   "metadata": {},
   "outputs": [
    {
     "data": {
      "text/plain": [
       "5.000000000000001"
      ]
     },
     "execution_count": 70,
     "metadata": {},
     "output_type": "execute_result"
    }
   ],
   "source": [
    "mu3 * k_v * rho_c * V"
   ]
  },
  {
   "cell_type": "code",
   "execution_count": 60,
   "metadata": {},
   "outputs": [],
   "source": [
    "def int_3(l, a, b, V, a0 = 1.0):\n",
    "    return a0/V*(-l**6/6 + (b+a)/5.0*l**5 - a*b*l**4/4.0)"
   ]
  },
  {
   "cell_type": "code",
   "execution_count": 61,
   "metadata": {},
   "outputs": [
    {
     "data": {
      "text/plain": [
       "725694444.4444408"
      ]
     },
     "execution_count": 61,
     "metadata": {},
     "output_type": "execute_result"
    }
   ],
   "source": [
    "I3 = int_3(300.0, a, b, V) - int_3(250.0, a, b, V)\n",
    "I3"
   ]
  },
  {
   "cell_type": "code",
   "execution_count": 62,
   "metadata": {},
   "outputs": [
    {
     "data": {
      "text/plain": [
       "5.741626794258402e-12"
      ]
     },
     "execution_count": 62,
     "metadata": {},
     "output_type": "execute_result"
    }
   ],
   "source": [
    "m_seeds_ref / (I3 * k_v * rho_c * V)"
   ]
  },
  {
   "cell_type": "code",
   "execution_count": 64,
   "metadata": {},
   "outputs": [
    {
     "data": {
      "text/plain": [
       "0.004166666666666645"
      ]
     },
     "execution_count": 64,
     "metadata": {},
     "output_type": "execute_result"
    }
   ],
   "source": [
    "int_3(300.0, a, b, V, a0) - int_3(250.0, a, b, V, a0)"
   ]
  }
 ],
 "metadata": {
  "hide_input": false,
  "kernelspec": {
   "display_name": "Python 3",
   "language": "python",
   "name": "python3"
  },
  "language_info": {
   "codemirror_mode": {
    "name": "ipython",
    "version": 3
   },
   "file_extension": ".py",
   "mimetype": "text/x-python",
   "name": "python",
   "nbconvert_exporter": "python",
   "pygments_lexer": "ipython3",
   "version": "3.6.5"
  }
 },
 "nbformat": 4,
 "nbformat_minor": 2
}
