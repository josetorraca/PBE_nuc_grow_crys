{
 "cells": [
  {
   "cell_type": "markdown",
   "metadata": {},
   "source": [
    "# The Carbonic Acid/Bicarbonate/Carbonate Equilibrium $\\require{mhchem}$\n",
    "\n",
    "Carbonic Acid ($\\ce{H2CO3}$), Bicarbonate ($\\ce{HCO3-}$) and Carbonate ($\\ce{CO3^{2-}}$) form in water through the following equilibrium reactions:\n",
    "\n",
    "$$ \\ce{CO2 + H2O <=> H2CO3} $$\n",
    "$$ \\ce{H2CO3 <=> HCO3- + H+} $$\n",
    "$$ \\ce{HCO3- <=> CO3^{2-} + H+} $$\n",
    "\n",
    "The distribution of carbonic acid, bicarbonate and carbonate is dependent on the pH of the water, and is easily simulated using PhreeqPython.\n",
    "\n",
    "## Importing Modules\n",
    "We start by importing phreeqpython package and creating a new PhreeqPython instance"
   ]
  },
  {
   "cell_type": "code",
   "execution_count": 50,
   "metadata": {},
   "outputs": [
    {
     "name": "stdout",
     "output_type": "stream",
     "text": [
      "Populating the interactive namespace from numpy and matplotlib\n"
     ]
    }
   ],
   "source": [
    "%pylab inline\n",
    "from phreeqpython import PhreeqPython\n",
    "# create new PhreeqPython instance\n",
    "pp = PhreeqPython()\n",
    "pitzer = PhreeqPython(database='pitzer.dat')\n",
    "from thermo import Chemical\n",
    "\n",
    "def print_infos(sol):\n",
    "    print(\"This solution has:\")\n",
    "    print(\"pH = {:.2f}\".format(sol.pH))\n",
    "    print(\"conductivity = {:.2f} uS/cm\".format(sol.sc))\n",
    "    print(\"Species:\")\n",
    "    print(sol.species)\n",
    "def print_ph_sc(solution):\n",
    "    print(\"This solution has a pH of: {0:.2f} and a conductivity of: {1:.2f} uS/cm\".format(solution.pH,solution.sc))\n",
    "    \n",
    "pCO2 = 0.0003908408957924021"
   ]
  },
  {
   "cell_type": "markdown",
   "metadata": {},
   "source": [
    "## Solution Definition\n",
    "\n",
    "We define a simple solution that contains 1 mmol of Sodium Bicarbondate ($\\ce{NaHCO3}$)"
   ]
  },
  {
   "cell_type": "code",
   "execution_count": 21,
   "metadata": {},
   "outputs": [
    {
     "name": "stdout",
     "output_type": "stream",
     "text": [
      "This solution has a pH of: 8.27 and a conductivity of: 92.97 uS/cm\n"
     ]
    }
   ],
   "source": [
    "solution = pp.add_solution_simple({'NaHCO3':1.0}, temperature=25.0)\n",
    "print_ph_sc(solution)\n",
    "# CHECKED WITH AQION"
   ]
  },
  {
   "cell_type": "code",
   "execution_count": 41,
   "metadata": {},
   "outputs": [
    {
     "name": "stdout",
     "output_type": "stream",
     "text": [
      "This solution has:\n",
      "pH = 8.20\n",
      "conductivity = 92.87 uS/cm\n",
      "Species:\n",
      "{'CH4': 0.0, 'CO2': 1.3505832556705821e-05, 'CO3-2': 8.068339195143488e-06, 'H+': 6.561526012890425e-09, 'H2': 0.0, 'H2O': 55.509306099616815, 'HCO3-': 0.0009814421594994951, 'Na+': 0.000999355901601947, 'NaCO3-': 1.3040394825074918e-07, 'NaHCO3': 5.137030093085683e-07, 'NaOH': 1.5388726406305176e-19, 'O2': 1.17949476224091e-12, 'OH-': 1.654429252141535e-06}\n"
     ]
    }
   ],
   "source": [
    "solution = pp.add_solution_simple({'NaHCO3':1.0}, temperature=25.0)\n",
    "fixed_pressure = pp.add_gas({\n",
    "    'CO2(g)': pCO2,\n",
    "}, pressure=pCO2, fixed_pressure=True)\n",
    "solution.interact(fixed_pressure)\n",
    "print_infos(solution)"
   ]
  },
  {
   "cell_type": "code",
   "execution_count": 67,
   "metadata": {},
   "outputs": [
    {
     "name": "stdout",
     "output_type": "stream",
     "text": [
      "This solution has:\n",
      "pH = 5.60\n",
      "conductivity = 1195.67 uS/cm\n",
      "Species:\n",
      "{'CH4': 0.0, 'CO2': 1.3208281333815092e-05, 'CO3-2': 7.135585446223833e-11, 'Ca+2': 0.004999894090010197, 'CaCO3': 2.3190903063401768e-10, 'CaHCO3+': 1.0548713736925847e-07, 'CaOH+': 2.3439921429840216e-10, 'Cl-': 0.010000000000000175, 'H+': 2.7704729933246624e-06, 'H2': 0.0, 'H2O': 55.509295137265454, 'HCO3-': 2.6607566474254943e-06, 'O2': 5.919485749715901e-13, 'OH-': 4.604795211058611e-09}\n"
     ]
    },
    {
     "data": {
      "text/plain": [
       "1.0036604382089191"
      ]
     },
     "execution_count": 67,
     "metadata": {},
     "output_type": "execute_result"
    }
   ],
   "source": [
    "solution = pp.add_solution_simple({'CaCl2':5.0}, temperature=25.0)\n",
    "fixed_pressure = pp.add_gas({\n",
    "    'CO2(g)': pCO2,\n",
    "}, pressure=pCO2, fixed_pressure=True)\n",
    "solution.interact(fixed_pressure)\n",
    "print_infos(solution)\n",
    "sol.total_element('C')"
   ]
  },
  {
   "cell_type": "code",
   "execution_count": 74,
   "metadata": {},
   "outputs": [
    {
     "name": "stdout",
     "output_type": "stream",
     "text": [
      "This solution has:\n",
      "pH = 5.59\n",
      "conductivity = 3348.76 uS/cm\n",
      "Species:\n",
      "{'CH4': 0.0, 'CO2': 1.2993108291997574e-05, 'CO3-2': 8.596128116057193e-11, 'Ca+2': 0.014999746586139307, 'CaCO3': 5.048439443850724e-10, 'CaHCO3+': 2.5234161818146965e-07, 'CaOH+': 5.700616112247372e-10, 'Cl-': 0.029999999999999992, 'H+': 2.9864865515830294e-06, 'H2': 1.441953575685528e-40, 'H2O': 55.50929492153945, 'HCO3-': 2.7287876664066635e-06, 'O2': 1.940580350456768e-13, 'OH-': 4.822110394775897e-09}\n"
     ]
    },
    {
     "data": {
      "text/plain": [
       "1.0036604382089191"
      ]
     },
     "execution_count": 74,
     "metadata": {},
     "output_type": "execute_result"
    }
   ],
   "source": [
    "solution = pp.add_solution_simple({'CaCl2':15}, temperature=25.0)\n",
    "fixed_pressure = pp.add_gas({\n",
    "    'CO2(g)': pCO2,\n",
    "}, pressure=pCO2, fixed_pressure=True)\n",
    "solution.interact(fixed_pressure)\n",
    "print_infos(solution)\n",
    "sol.total_element('C')"
   ]
  },
  {
   "cell_type": "code",
   "execution_count": 85,
   "metadata": {},
   "outputs": [
    {
     "name": "stdout",
     "output_type": "stream",
     "text": [
      "This solution has:\n",
      "pH = 5.61\n",
      "conductivity = 0.97 uS/cm\n",
      "Species:\n",
      "{'CH4': 0.0, 'CO2': 1.3508955626224672e-05, 'CO3-2': 4.718468931804721e-11, 'H+': 2.457207830636173e-06, 'H2': 0.0, 'H2O': 55.50929545027456, 'HCO3-': 2.454195689778978e-06, 'O2': 4.848111006206551e-12, 'OH-': 4.13428618766546e-09}\n"
     ]
    },
    {
     "data": {
      "text/plain": [
       "1.0036604382089191"
      ]
     },
     "execution_count": 85,
     "metadata": {},
     "output_type": "execute_result"
    }
   ],
   "source": [
    "solution = pp.add_solution_simple({'NaHCO3':0.0}, temperature=25.0)\n",
    "fixed_pressure = pp.add_gas({\n",
    "    'CO2(g)': pCO2,\n",
    "}, pressure=pCO2, fixed_pressure=True)\n",
    "solution.interact(fixed_pressure)\n",
    "print_infos(solution)\n",
    "sol.total_element('C')\n",
    "# sol.I"
   ]
  },
  {
   "cell_type": "code",
   "execution_count": 37,
   "metadata": {},
   "outputs": [
    {
     "name": "stdout",
     "output_type": "stream",
     "text": [
      "This solution has:\n",
      "pH = 8.20\n",
      "conductivity = 92.87 uS/cm\n",
      "Species:\n",
      "{'CH4': 0.0, 'CO2': 1.3505832556708808e-05, 'CO3-2': 8.068339195141905e-06, 'H+': 6.561526012891794e-09, 'H2': 0.0, 'H2O': 55.50930609961683, 'HCO3-': 0.0009814421594995092, 'Na+': 0.0009993559016019471, 'NaCO3-': 1.3040394825072414e-07, 'NaHCO3': 5.137030093085748e-07, 'NaOH': 1.5388726406301904e-19, 'O2': 1.207204932740022e-12, 'OH-': 1.65442925214119e-06}\n"
     ]
    },
    {
     "data": {
      "text/plain": [
       "0.0010036604382089192"
      ]
     },
     "execution_count": 37,
     "metadata": {},
     "output_type": "execute_result"
    }
   ],
   "source": [
    "#pitzer = PhreeqPython(database='pitzer.dat')\n",
    "sol = pp.add_solution({'temp':25})\n",
    "sol.add('NaHCO3', 1 , 'mmol')\n",
    "gas = pp.add_gas({'CO2(g)':pCO2}, pressure=pCO2, fixed_pressure=True)\n",
    "sol.interact(gas)\n",
    "print_infos(sol)\n",
    "sol.total_element('C', units='mol')"
   ]
  },
  {
   "cell_type": "code",
   "execution_count": 3,
   "metadata": {
    "run_control": {
     "marked": false
    }
   },
   "outputs": [
    {
     "name": "stdout",
     "output_type": "stream",
     "text": [
      "This solution has:\n",
      "pH = 2.22\n",
      "conductivity = 4163.07 uS/cm\n",
      "Species:\n",
      "{'CH4': 0.0, 'CO2': 7.83562799771053e-06, 'CO3-2': 8.281796982946092e-18, 'Ca+2': 0.00655499888741352, 'CaCO3': 2.7676715276717223e-17, 'CaHCO3+': 3.12324576814614e-11, 'CaOH+': 1.1706099150952603e-13, 'Cl-': 0.013109997837526125, 'H+': 0.006817790931115077, 'H2': 0.0, 'H2O': 55.50588901222212, 'HCO3-': 6.782420081217939e-10, 'N2': 0.0006612109047373955, 'NH3': 0.0, 'NH4+': 0.0, 'NO2-': 1.368636155051554e-14, 'NO3-': 0.00681779143603757, 'O2': 2.8316286251961755e-06, 'OH-': 1.9827104817966454e-12}\n"
     ]
    }
   ],
   "source": [
    "solution = pp.add_solution_simple({'CaCl2':(0.7275 / Chemical('CaCl2').MW)*1e3}) #, 'CO2(g)': 1e-3})\n",
    "# From: https://github.com/Vitens/phreeqpython/blob/bfa8ec9ea6e89c0a4398abffe399c79cea8a699d/examples/4.%20Gas/1.%20Solubilities.ipynb\n",
    "# it seems that it is given the partial pressure\n",
    "fixed_pressure = pp.add_gas({\n",
    "    'CO2(g)': 3.5e-4,\n",
    "    'O2(g)': 0.21,\n",
    "    'N2(g)': 1.0 - 0.21 - 3.5e-4\n",
    "}, pressure=1.0, fixed_pressure=True)\n",
    "\n",
    "solution.interact(fixed_pressure)\n",
    "print_infos(solution)"
   ]
  },
  {
   "cell_type": "code",
   "execution_count": 22,
   "metadata": {},
   "outputs": [
    {
     "name": "stdout",
     "output_type": "stream",
     "text": [
      "8.228126408867038\n",
      "This solution has:\n",
      "pH = 8.23\n",
      "conductivity = 1278.54 uS/cm\n",
      "Species:\n",
      "{'CH4': 0.0, 'CO2': 0.00016684863144873226, 'CO3-2': 0.00015936804545497652, 'H+': 6.566631090743143e-09, 'H2': 0.0, 'H2O': 55.509484258955, 'HCO3-': 0.014146593346493614, 'Na+': 0.014494249674044835, 'NaCO3-': 2.6990040233410842e-05, 'NaHCO3': 9.070587675390569e-05, 'NaOH': 2.1926104817015374e-18, 'O2': 0.001269558520956673, 'OH-': 1.9379778036597747e-06}\n"
     ]
    },
    {
     "data": {
      "text/plain": [
       "14.61194559109034"
      ]
     },
     "execution_count": 22,
     "metadata": {},
     "output_type": "execute_result"
    }
   ],
   "source": [
    "solution = pp.add_solution_simple({'NaHCO3':(1.2275/ Chemical('NaHCO3').MW)*1e3}) #, 'CO2(g)': 1e-3})\n",
    "# From: https://github.com/Vitens/phreeqpython/blob/bfa8ec9ea6e89c0a4398abffe399c79cea8a699d/examples/4.%20Gas/1.%20Solubilities.ipynb\n",
    "# it seems that it is given the partial pressure\n",
    "# solution.pH\n",
    "fixed_pressure = pp.add_gas({\n",
    "    'CO2(g)': 3.5e-4,\n",
    "    'O2(g)': 0.21,\n",
    "}, pressure=1.0, fixed_pressure=True)\n",
    "\n",
    "solution.interact(fixed_pressure)\n",
    "print(solution.pH)\n",
    "solution.species\n",
    "print_infos(solution)\n",
    "solution.species_moles\n",
    "(1.2275/ Chemical('NaHCO3').MW)*1e3"
   ]
  },
  {
   "cell_type": "code",
   "execution_count": 67,
   "metadata": {},
   "outputs": [
    {
     "name": "stdout",
     "output_type": "stream",
     "text": [
      "7.737990918673123\n"
     ]
    },
    {
     "data": {
      "text/plain": [
       "{'CH4': 0.0,\n",
       " 'CO2': 5.729749849134576e-07,\n",
       " 'CO3-2': 3.6404965493954145e-08,\n",
       " 'H+': 1.8362867292058582e-08,\n",
       " 'H2': 2.4264782229497392e-39,\n",
       " 'H2O': 55.509297925487026,\n",
       " 'HCO3-': 1.4002441879430296e-05,\n",
       " 'Na+': 1.4611821891375966e-05,\n",
       " 'NaCO3-': 9.729848256429904e-12,\n",
       " 'NaHCO3': 1.1403140490123627e-10,\n",
       " 'NaOH': 8.053783583254025e-22,\n",
       " 'O2': 7.080148498541336e-16,\n",
       " 'OH-': 5.561396715930679e-07}"
      ]
     },
     "execution_count": 67,
     "metadata": {},
     "output_type": "execute_result"
    }
   ],
   "source": [
    "solution = pp.add_solution_simple({'NaHCO3':(1.2275/ Chemical('NaHCO3').MW)}) #, 'CO2(g)': 1e-3})\n",
    "# From: https://github.com/Vitens/phreeqpython/blob/bfa8ec9ea6e89c0a4398abffe399c79cea8a699d/examples/4.%20Gas/1.%20Solubilities.ipynb\n",
    "# it seems that it is given the partial pressure\n",
    "# solution.pH\n",
    "# fixed_pressure = pp.add_gas({\n",
    "#     'CO2(g)': 3.5e-4,\n",
    "#     'O2(g)': 0.21,\n",
    "# }, pressure=1.0, fixed_pressure=True)\n",
    "\n",
    "# solution.interact(fixed_pressure)\n",
    "print(solution.pH)\n",
    "solution.species"
   ]
  },
  {
   "cell_type": "code",
   "execution_count": 61,
   "metadata": {},
   "outputs": [
    {
     "name": "stdout",
     "output_type": "stream",
     "text": [
      "This solution has a pH of: 7.00 and a conductivity of: 0.06 uS/cm\n"
     ]
    },
    {
     "data": {
      "text/plain": [
       "{'Ca+2': 6.554988056721185e-09,\n",
       " 'CaOH+': 1.0865303023396821e-14,\n",
       " 'Cl-': 1.3109997837933886e-08,\n",
       " 'H+': 1.000406269225928e-07,\n",
       " 'H2': 0.0,\n",
       " 'H2O': 55.50929780739457,\n",
       " 'O2': 4.850111273904839e-12,\n",
       " 'OH-': 1.012571307870121e-07}"
      ]
     },
     "execution_count": 61,
     "metadata": {},
     "output_type": "execute_result"
    }
   ],
   "source": [
    "solution = pp.add_solution_simple({'CaCl2':(0.7275 / Chemical('CaCl2').MW)*1e-3 },temperature=25)\n",
    "print(\"This solution has a pH of: {0:.2f} and a conductivity of: {1:.2f} uS/cm\".format(solution.pH,solution.sc))\n",
    "# solution.change_ph(6.4,'CO2')\n",
    "solution.species"
   ]
  },
  {
   "cell_type": "markdown",
   "metadata": {},
   "source": [
    "## List Definition\n",
    "We initialize four arrays, one for the pH and one for each of the different carbonate species."
   ]
  },
  {
   "cell_type": "code",
   "execution_count": 3,
   "metadata": {},
   "outputs": [],
   "source": [
    "phs = []\n",
    "co2 = []\n",
    "hco3 = []\n",
    "co3 = []"
   ]
  },
  {
   "cell_type": "markdown",
   "metadata": {},
   "source": [
    "## Calculation Loop\n",
    "We now iteratively change the pH to the desired value, using the **change_ph** function to dose either hydrochloric acid ($\\ce{HCl}$) or lye ($\\ce{NaOH}$). Using the **total** function we can find the total amount of carbon dioxide, bicarbonate and carbonate."
   ]
  },
  {
   "cell_type": "code",
   "execution_count": 4,
   "metadata": {},
   "outputs": [],
   "source": [
    "for pH in arange(0,14.1,0.1):\n",
    "    # change the solution pH\n",
    "    solution.change_ph(pH)\n",
    "    # get and store the ph, CO2, HCO3 and CO3\n",
    "    phs.append(pH)\n",
    "    co2.append(solution.total('CO2')*1000)\n",
    "    co3.append(solution.total('CO3')*1000)\n",
    "    hco3.append(solution.total('HCO3')*1000)"
   ]
  },
  {
   "cell_type": "markdown",
   "metadata": {},
   "source": [
    "## Display Results\n",
    "\n",
    "Using matplotlib we can display the results:"
   ]
  },
  {
   "cell_type": "code",
   "execution_count": 86,
   "metadata": {},
   "outputs": [
    {
     "ename": "NameError",
     "evalue": "name 'phs' is not defined",
     "output_type": "error",
     "traceback": [
      "\u001b[0;31m---------------------------------------------------------------------------\u001b[0m",
      "\u001b[0;31mNameError\u001b[0m                                 Traceback (most recent call last)",
      "\u001b[0;32m<ipython-input-86-9af2a612876e>\u001b[0m in \u001b[0;36m<module>\u001b[0;34m()\u001b[0m\n\u001b[1;32m      1\u001b[0m \u001b[0mfig\u001b[0m \u001b[0;34m=\u001b[0m \u001b[0mplt\u001b[0m\u001b[0;34m.\u001b[0m\u001b[0mfigure\u001b[0m\u001b[0;34m(\u001b[0m\u001b[0mfigsize\u001b[0m\u001b[0;34m=\u001b[0m\u001b[0;34m[\u001b[0m\u001b[0;36m14\u001b[0m\u001b[0;34m,\u001b[0m\u001b[0;36m6\u001b[0m\u001b[0;34m]\u001b[0m\u001b[0;34m)\u001b[0m\u001b[0;34m\u001b[0m\u001b[0m\n\u001b[0;32m----> 2\u001b[0;31m \u001b[0mplt\u001b[0m\u001b[0;34m.\u001b[0m\u001b[0mplot\u001b[0m\u001b[0;34m(\u001b[0m\u001b[0mphs\u001b[0m\u001b[0;34m,\u001b[0m\u001b[0mco2\u001b[0m\u001b[0;34m,\u001b[0m\u001b[0mlabel\u001b[0m\u001b[0;34m=\u001b[0m\u001b[0;34m'CO2'\u001b[0m\u001b[0;34m)\u001b[0m\u001b[0;34m\u001b[0m\u001b[0m\n\u001b[0m\u001b[1;32m      3\u001b[0m \u001b[0mplt\u001b[0m\u001b[0;34m.\u001b[0m\u001b[0mplot\u001b[0m\u001b[0;34m(\u001b[0m\u001b[0mphs\u001b[0m\u001b[0;34m,\u001b[0m\u001b[0mhco3\u001b[0m\u001b[0;34m,\u001b[0m\u001b[0mlabel\u001b[0m\u001b[0;34m=\u001b[0m\u001b[0;34m'HCO3-'\u001b[0m\u001b[0;34m)\u001b[0m\u001b[0;34m\u001b[0m\u001b[0m\n\u001b[1;32m      4\u001b[0m \u001b[0mplt\u001b[0m\u001b[0;34m.\u001b[0m\u001b[0mplot\u001b[0m\u001b[0;34m(\u001b[0m\u001b[0mphs\u001b[0m\u001b[0;34m,\u001b[0m\u001b[0mco3\u001b[0m\u001b[0;34m,\u001b[0m\u001b[0mlabel\u001b[0m\u001b[0;34m=\u001b[0m\u001b[0;34m'CO3-2'\u001b[0m\u001b[0;34m)\u001b[0m\u001b[0;34m\u001b[0m\u001b[0m\n\u001b[1;32m      5\u001b[0m \u001b[0mplt\u001b[0m\u001b[0;34m.\u001b[0m\u001b[0mxlabel\u001b[0m\u001b[0;34m(\u001b[0m\u001b[0;34m\"pH\"\u001b[0m\u001b[0;34m)\u001b[0m\u001b[0;34m\u001b[0m\u001b[0m\n",
      "\u001b[0;31mNameError\u001b[0m: name 'phs' is not defined"
     ]
    },
    {
     "data": {
      "text/plain": [
       "<Figure size 1008x432 with 0 Axes>"
      ]
     },
     "metadata": {},
     "output_type": "display_data"
    }
   ],
   "source": [
    "fig = plt.figure(figsize=[14,6])\n",
    "plt.plot(phs,co2,label='CO2')\n",
    "plt.plot(phs,hco3,label='HCO3-')\n",
    "plt.plot(phs,co3,label='CO3-2')\n",
    "plt.xlabel(\"pH\")\n",
    "plt.ylabel(\"Concentration (mmol)\")\n",
    "plt.title(\"Carbonic Acid, Bicarbonate, Carbonate distribution\")\n",
    "lgnd = plt.legend()"
   ]
  },
  {
   "cell_type": "code",
   "execution_count": 87,
   "metadata": {},
   "outputs": [],
   "source": [
    "# TESTING NUMBA\n",
    "\n",
    "\n"
   ]
  },
  {
   "cell_type": "code",
   "execution_count": null,
   "metadata": {},
   "outputs": [],
   "source": []
  }
 ],
 "metadata": {
  "hide_input": false,
  "kernelspec": {
   "display_name": "Python 3",
   "language": "python",
   "name": "python3"
  },
  "language_info": {
   "codemirror_mode": {
    "name": "ipython",
    "version": 3
   },
   "file_extension": ".py",
   "mimetype": "text/x-python",
   "name": "python",
   "nbconvert_exporter": "python",
   "pygments_lexer": "ipython3",
   "version": "3.6.5"
  },
  "toc": {
   "base_numbering": 1,
   "nav_menu": {},
   "number_sections": true,
   "sideBar": true,
   "skip_h1_title": false,
   "title_cell": "Table of Contents",
   "title_sidebar": "Contents",
   "toc_cell": false,
   "toc_position": {},
   "toc_section_display": true,
   "toc_window_display": false
  }
 },
 "nbformat": 4,
 "nbformat_minor": 1
}
